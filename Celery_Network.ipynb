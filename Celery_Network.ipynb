{
 "metadata": {
  "name": "",
  "signature": "sha256:ef93aa7d6a12e596d974978f0e6f4e0a1bef8f4e5610cd60b74bf902b5c03854"
 },
 "nbformat": 3,
 "nbformat_minor": 0,
 "worksheets": [
  {
   "cells": [
    {
     "cell_type": "code",
     "collapsed": false,
     "input": [
      "## Switch localhost:27017 to ip_address/port to connect to remote db.\n",
      "from tasks import app\n",
      "from tasks import add\n",
      "from tasks import prod"
     ],
     "language": "python",
     "metadata": {},
     "outputs": [],
     "prompt_number": 9
    },
    {
     "cell_type": "code",
     "collapsed": false,
     "input": [
      "rr = [add.delay(100, xx) for xx in range(1000)]"
     ],
     "language": "python",
     "metadata": {},
     "outputs": [],
     "prompt_number": 3
    },
    {
     "cell_type": "code",
     "collapsed": false,
     "input": [
      "# Initilize inspector Adim.\n",
      "Adim = app.control.inspect()"
     ],
     "language": "python",
     "metadata": {},
     "outputs": [],
     "prompt_number": 6
    },
    {
     "cell_type": "code",
     "collapsed": false,
     "input": [
      "# job id.\n",
      "rr[0].id"
     ],
     "language": "python",
     "metadata": {},
     "outputs": [
      {
       "metadata": {},
       "output_type": "pyout",
       "prompt_number": 5,
       "text": [
        "'a2958fe8-8d96-44d8-8e6f-6c0dbceace3c'"
       ]
      }
     ],
     "prompt_number": 5
    },
    {
     "cell_type": "code",
     "collapsed": false,
     "input": [
      "# Show all the registed workers.\n",
      "Adim.registered()"
     ],
     "language": "python",
     "metadata": {},
     "outputs": [
      {
       "metadata": {},
       "output_type": "pyout",
       "prompt_number": 7,
       "text": [
        "{u'celery@6d3a4ad6-c53e-4b3f-ad2a-9f6473006e82': [u'tasks.add', u'tasks.prod'],\n",
        " u'celery@w1': [u'tasks.add', u'tasks.prod'],\n",
        " u'celery@w2': [u'tasks.add', u'tasks.prod']}"
       ]
      }
     ],
     "prompt_number": 7
    },
    {
     "cell_type": "code",
     "collapsed": false,
     "input": [
      "# Show current activity of each worker.\n",
      "Adim.active()"
     ],
     "language": "python",
     "metadata": {},
     "outputs": [
      {
       "metadata": {},
       "output_type": "pyout",
       "prompt_number": 8,
       "text": [
        "{u'celery@6d3a4ad6-c53e-4b3f-ad2a-9f6473006e82': [],\n",
        " u'celery@w1': [],\n",
        " u'celery@w2': []}"
       ]
      }
     ],
     "prompt_number": 8
    },
    {
     "cell_type": "code",
     "collapsed": false,
     "input": [
      "a = add.AsyncResult(\"a2958fe8-8d96-44d8-8e6f-6c0dbceace3c\")"
     ],
     "language": "python",
     "metadata": {},
     "outputs": [],
     "prompt_number": 15
    },
    {
     "cell_type": "code",
     "collapsed": false,
     "input": [
      "a.result"
     ],
     "language": "python",
     "metadata": {},
     "outputs": [
      {
       "metadata": {},
       "output_type": "pyout",
       "prompt_number": 16,
       "text": [
        "100"
       ]
      }
     ],
     "prompt_number": 16
    },
    {
     "cell_type": "code",
     "collapsed": false,
     "input": [
      "p = prod.AsyncResult(\"a2958fe8-8d96-44d8-8e6f-6c0dbceace3c\")\n",
      "p.result"
     ],
     "language": "python",
     "metadata": {},
     "outputs": [
      {
       "metadata": {},
       "output_type": "pyout",
       "prompt_number": 18,
       "text": [
        "100"
       ]
      }
     ],
     "prompt_number": 18
    },
    {
     "cell_type": "code",
     "collapsed": false,
     "input": [],
     "language": "python",
     "metadata": {},
     "outputs": []
    }
   ],
   "metadata": {}
  }
 ]
}